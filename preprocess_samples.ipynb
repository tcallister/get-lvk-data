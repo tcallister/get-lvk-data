{
 "cells": [
  {
   "cell_type": "code",
   "execution_count": 1,
   "metadata": {
    "Collapsed": "false"
   },
   "outputs": [],
   "source": [
    "import numpy as np\n",
    "from scipy.stats import gaussian_kde\n",
    "import h5py\n",
    "import os,sys\n",
    "import astropy.cosmology as cosmo\n",
    "import astropy.units as u\n",
    "from astropy.cosmology import Planck15\n",
    "import matplotlib.pyplot as plt\n",
    "from tqdm.notebook import tqdm\n",
    "import json\n",
    "import glob\n",
    "import copy\n",
    "import re\n",
    "import pickle"
   ]
  },
  {
   "cell_type": "markdown",
   "metadata": {
    "Collapsed": "false"
   },
   "source": [
    "# Prelim"
   ]
  },
  {
   "cell_type": "markdown",
   "metadata": {
    "Collapsed": "false"
   },
   "source": [
    "First, define some helper functions to compute chi_effective and chi_p"
   ]
  },
  {
   "cell_type": "code",
   "execution_count": 2,
   "metadata": {
    "Collapsed": "false"
   },
   "outputs": [],
   "source": [
    "def Calculate_Xp(m1, m2, a1, a2, costilt1, costilt2):\n",
    "    \n",
    "    q = m2/m1\n",
    "    sintilt1 = np.sqrt(1-(costilt1)**2)\n",
    "    sintilt2 = np.sqrt(1-(costilt2)**2)\n",
    "    \n",
    "    return np.maximum(a1*sintilt1, (3.+4.*q)/(4.+3.*q)*q*a2*sintilt2)\n",
    "\n",
    "def Calculate_Xeff(m1, m2, a1, a2, costilt1, costilt2):\n",
    "    Xeff = (m1*a1*costilt1 + m2*a2*costilt2)/(m1+m2)\n",
    "    return Xeff\n",
    "\n",
    "def eta(m1,m2):\n",
    "    return m1*m2/(m1+m2)/(m1+m2)\n",
    "\n",
    "def Mc(m1,m2):\n",
    "    return np.power(eta(m1,m2),3./5.)*(m1+m2)"
   ]
  },
  {
   "cell_type": "markdown",
   "metadata": {
    "Collapsed": "false"
   },
   "source": [
    "Note that the LALInference prior is uniform in *luminosity* distance, and uniform in *detector-frame* component masses. This corresponds to:\n",
    "\n",
    "\\begin{equation}\n",
    "p_\\mathrm{lal}(m_1,m_2,z) \\propto (1+z)^2 D_L^2(z) \\left( D_c(z) + \\frac{c(1+z)}{H(z)}\\right),\n",
    "\\end{equation}\n",
    "\n",
    "where $D_L(z)$ and $D_c(z)$ are the luminosity and comoving distance at redshift $z$, respectively, and $H(z)$ is the Hubble parameter at $z$. Below, we'll define a few functions to compute this prior so that it can be removed, allowing us to hierarchically fit for the true redshift distribution or later impose our own astrophysically-motivated prior."
   ]
  },
  {
   "cell_type": "code",
   "execution_count": 3,
   "metadata": {
    "Collapsed": "false"
   },
   "outputs": [],
   "source": [
    "# Define constants\n",
    "# Note that we assume a cosmology identical to that in pesummary\n",
    "c = 299792458 # m/s\n",
    "H_0 = 67900.0 # m/s/MPc\n",
    "Omega_M = 0.3065 # unitless\n",
    "Omega_Lambda = 1.0-Omega_M\n",
    "year = 365.25*24.*3600\n",
    "\n",
    "# Construct custom cosmology matching pesummary\n",
    "cosmo = Planck15.clone(name='cosmo',Om0=Omega_M,H0=H_0/1e3,Tcmb0=0.)\n",
    "\n",
    "def Hz(z):\n",
    "    return H_0*np.sqrt(Omega_M*(1.+z)**3.+Omega_Lambda)\n",
    "\n",
    "def calculate_pLAL(z, dl):\n",
    "    dc = dl/(1.+z) # comoving distance \n",
    "    pLAL = np.power(1.+z,2.)*np.power(dl,2.)*(dc+c*(1.+z)/Hz(z))\n",
    "    return pLAL\n",
    "\n",
    "def dVc_dz(z,dl):\n",
    "    dc = dl/(1.+z) # comoving distance \n",
    "    dVc_dz = 4*np.pi*c*(dc**2.)/Hz(z) # differential comoving volume \n",
    "    return dVc_dz"
   ]
  },
  {
   "cell_type": "markdown",
   "metadata": {
    "Collapsed": "false"
   },
   "source": [
    "For later use, we'll want to build an interpolant between luminosity distance and redshift:"
   ]
  },
  {
   "cell_type": "code",
   "execution_count": 4,
   "metadata": {
    "Collapsed": "false"
   },
   "outputs": [
    {
     "data": {
      "image/png": "[encoded data removed]",
      "text/plain": [
       "<Figure size 432x288 with 1 Axes>"
      ]
     },
     "metadata": {
      "needs_background": "light"
     },
     "output_type": "display_data"
    }
   ],
   "source": [
    "zs_ref = np.linspace(0.,3.,1000)\n",
    "DL_ref = cosmo.luminosity_distance(zs_ref).to(u.Mpc).value\n",
    "\n",
    "fig,ax = plt.subplots()\n",
    "ax.plot(zs_ref,DL_ref/1e3)\n",
    "ax.set_xlabel('Redshift')\n",
    "ax.set_ylabel('Luminosity Distance (Gpc)')\n",
    "plt.show()"
   ]
  },
  {
   "cell_type": "markdown",
   "metadata": {
    "Collapsed": "false"
   },
   "source": [
    "Finally, load dictionary we'll use to list events and cut on FAR"
   ]
  },
  {
   "cell_type": "code",
   "execution_count": 5,
   "metadata": {
    "Collapsed": "false"
   },
   "outputs": [],
   "source": [
    "eventDict = h5py.File('events.hdf','r')\n",
    "\n",
    "eventKeyFile = \"event_to_run.json\"\n",
    "with open(eventKeyFile,'r') as jf:\n",
    "    eventKeyDict = json.load(jf)\n",
    "\n",
    "target_nSamps = 8000"
   ]
  },
  {
   "cell_type": "markdown",
   "metadata": {
    "Collapsed": "false"
   },
   "source": [
    "# O1/O2"
   ]
  },
  {
   "cell_type": "code",
   "execution_count": 6,
   "metadata": {},
   "outputs": [
    {
     "name": "stdout",
     "output_type": "stream",
     "text": [
      "['GW150914' 'GW151012' 'GW151226' 'GW170104' 'GW170608' 'GW170729'\n",
      " 'GW170809' 'GW170814' 'GW170818' 'GW170823']\n"
     ]
    }
   ],
   "source": [
    "O1O2_events = np.array([])\n",
    "\n",
    "# Read all O1 BBHs\n",
    "for key in eventDict['O1']:\n",
    "    O1O2_events = np.append(O1O2_events,str(key))\n",
    "\n",
    "# Read all O2 BBHs\n",
    "for key in eventDict['O2']:\n",
    "    if key!='GW170817':\n",
    "        O1O2_events = np.append(O1O2_events,str(key))\n",
    "    \n",
    "print(O1O2_events)"
   ]
  },
  {
   "cell_type": "code",
   "execution_count": 7,
   "metadata": {
    "Collapsed": "false"
   },
   "outputs": [
    {
     "name": "stdout",
     "output_type": "stream",
     "text": [
      "GW150914\n",
      "8000\n",
      "GW151012\n",
      "8000\n",
      "GW151226\n",
      "8000\n",
      "GW170104\n",
      "8000\n",
      "GW170608\n",
      "6448\n",
      "GW170729\n",
      "5112\n",
      "GW170809\n",
      "8000\n",
      "GW170814\n",
      "8000\n",
      "GW170818\n",
      "5862\n",
      "GW170823\n",
      "4278\n"
     ]
    }
   ],
   "source": [
    "for key in O1O2_events:\n",
    "    \n",
    "    print(key)\n",
    "    if os.path.exists(\".tmp/{0}.npy\".format(key)):\n",
    "        print(\"skip\")\n",
    "        continue\n",
    "    \n",
    "    # load samples\n",
    "    #BBH_post = h5py.File('O1O2/GWTC-1_sample_release/{0}_GWTC-1.hdf5'.format(key), 'r')['Overall_posterior']\n",
    "    BBH_post = h5py.File('../../LIGO-Data/O1O2/GWTC-1_sample_release/{0}_GWTC-1.hdf5'.format(key), 'r')['Overall_posterior']\n",
    "    m1_DF = BBH_post['m1_detector_frame_Msun']\n",
    "    m2_DF = BBH_post['m2_detector_frame_Msun']\n",
    "    a1 = BBH_post['spin1']\n",
    "    a2 = BBH_post['spin2']\n",
    "    cost1 = BBH_post['costilt1']\n",
    "    cost2 = BBH_post['costilt2']\n",
    "    \n",
    "    Xeff = Calculate_Xeff(m1_DF,m2_DF,a1,a2,cost1,cost2)\n",
    "    Xp = Calculate_Xp(m1_DF,m2_DF,a1,a2,cost1,cost2)\n",
    "    DL = BBH_post['luminosity_distance_Mpc']\n",
    "    \n",
    "    # Downselect to desired number of samples\n",
    "    nSamps = min(target_nSamps,Xeff.size)\n",
    "    print(nSamps)\n",
    "    sampleDraws = np.random.choice(np.arange(Xeff.size),size=nSamps,replace=False)\n",
    "    m1_DF = m1_DF[sampleDraws]\n",
    "    m2_DF = m2_DF[sampleDraws]\n",
    "    Xeff = Xeff[sampleDraws]\n",
    "    Xp = Xp[sampleDraws]\n",
    "    DL = DL[sampleDraws]\n",
    "    a1 = a1[sampleDraws]\n",
    "    a2 = a2[sampleDraws]\n",
    "    cost1 = cost1[sampleDraws]\n",
    "    cost2 = cost2[sampleDraws]\n",
    "      \n",
    "    # Mass ratio\n",
    "    q = m2_DF/m1_DF\n",
    "\n",
    "    # Redshift prior\n",
    "    # Note that DL is the observable, and so our mapping to z is dependent on our presumed cosmology\n",
    "    z = np.interp(DL,DL_ref,zs_ref)\n",
    "    Dc = DL/(1.+z)\n",
    "    p_LAL = calculate_pLAL(z, DL)\n",
    "    \n",
    "    # When specifying a new redshift population model downstream, one generally needs\n",
    "    # the differential comoving volume, dV/dz, for each sample redshift. Precompute this\n",
    "    dVdz = dVc_dz(z, DL)\n",
    "\n",
    "    preprocDict = {'Xeff':Xeff,\\\n",
    "                        'Xp':Xp,\\\n",
    "                        'm1':m1_DF/(1.+z),\\\n",
    "                        'm2':m2_DF/(1.+z),\\\n",
    "                        'a1':a1,\\\n",
    "                        'a2':a2,\\\n",
    "                        'cost1':cost1,\\\n",
    "                        'cost2':cost2,\\\n",
    "                        'z':z,\\\n",
    "                        'z_prior':p_LAL,\\\n",
    "                        'dVc_dz':dVdz\n",
    "                       }\n",
    "    \n",
    "    np.save('.tmp/{0}.npy'.format(key),preprocDict)"
   ]
  },
  {
   "cell_type": "markdown",
   "metadata": {
    "Collapsed": "false"
   },
   "source": [
    "# O3"
   ]
  },
  {
   "cell_type": "code",
   "execution_count": 8,
   "metadata": {
    "Collapsed": "false"
   },
   "outputs": [
    {
     "name": "stdout",
     "output_type": "stream",
     "text": [
      "60\n",
      "['S190408an' 'S190412m' 'S190413ac' 'S190413i' 'S190421ar' 'S190503bf'\n",
      " 'S190512at' 'S190513bm' 'S190517h' 'S190519bj' 'S190521g' 'S190521r'\n",
      " 'S190527w' 'S190602aq' 'S190620e' 'S190630ag' 'S190701ah' 'S190706ai'\n",
      " 'S190707q' 'S190708ap' 'S190719an' 'S190720a' 'S190725t' 'S190727h'\n",
      " 'S190728q' 'S190731aa' 'S190803e' 'S190805bq' 'S190814bv' 'S190828j'\n",
      " 'S190828l' 'S190910s' 'S190915ak' 'S190924h' 'S190925ad' 'S190929d'\n",
      " 'S190930s' 'S191103a' 'S191105e' 'S191109d' 'S191127p' 'S191129u'\n",
      " 'S191204r' 'S191215w' 'S191216ap' 'S191222n' 'S191230an' 'S200112r'\n",
      " 'S200128d' 'S200129m' 'S200202ac' 'S200208q' 'S200209ab' 'S200216br'\n",
      " 'S200219ac' 'S200224ca' 'S200225q' 'S200302c' 'S200311bg' 'S200316bj']\n"
     ]
    }
   ],
   "source": [
    "O3_events = np.array([])\n",
    "\n",
    "# GW190425 is a BNS\n",
    "# GW190426, GW200105, and GW200115 are NSBH candidates\n",
    "# GW190917 is a mass gap event\n",
    "to_exclude = ['S190425z','S190426c','S190917u','S200105ae','S200115j']\n",
    "for key in eventDict['O3']:\n",
    "    if key not in to_exclude:\n",
    "        \n",
    "        # Ignore empty entry mistakenly included in file\n",
    "        if key==\"%s\":\n",
    "            continue\n",
    "        \n",
    "        # Select events with FAR<1/yr\n",
    "        FAR_in_years = float(eventDict['O3'][key]['FAR']['minfar'][()])*year   \n",
    "        if FAR_in_years<=1.:\n",
    "            O3_events = np.append(O3_events,str(key))\n",
    "    \n",
    "print(len(O3_events))\n",
    "print(O3_events)"
   ]
  },
  {
   "cell_type": "code",
   "execution_count": 9,
   "metadata": {
    "Collapsed": "false",
    "scrolled": false
   },
   "outputs": [
    {
     "name": "stdout",
     "output_type": "stream",
     "text": [
      "S190408an ../../LIGO-Data/O3a/all_posterior_samples/S190408an.h5 PrecessingSpinIMRHM\n",
      "8000\n",
      "S190412m ../../LIGO-Data/O3a/all_posterior_samples/S190412m.h5 PrecessingSpinIMRHM\n",
      "8000\n",
      "S190413ac ../../LIGO-Data/O3a/all_posterior_samples/S190413ac.h5 PrecessingSpinIMRHM\n",
      "8000\n",
      "S190413i ../../LIGO-Data/O3a/all_posterior_samples/S190413i.h5 PrecessingSpinIMRHM\n",
      "8000\n",
      "S190421ar ../../LIGO-Data/O3a/all_posterior_samples/S190421ar.h5 PrecessingSpinIMRHM\n",
      "8000\n",
      "S190503bf ../../LIGO-Data/O3a/all_posterior_samples/S190503bf.h5 PrecessingSpinIMRHM\n",
      "8000\n",
      "S190512at ../../LIGO-Data/O3a/all_posterior_samples/S190512at.h5 PrecessingSpinIMRHM\n",
      "8000\n",
      "S190513bm ../../LIGO-Data/O3a/all_posterior_samples/S190513bm.h5 PrecessingSpinIMRHM\n",
      "8000\n",
      "S190517h ../../LIGO-Data/O3a/all_posterior_samples/S190517h.h5 PrecessingSpinIMRHM\n",
      "8000\n",
      "S190519bj ../../LIGO-Data/O3a/all_posterior_samples/S190519bj.h5 PrecessingSpinIMRHM\n",
      "8000\n",
      "S190521g ../../LIGO-Data/O3a/all_posterior_samples/S190521g.h5 PrecessingSpinIMRHM\n",
      "8000\n",
      "S190521r ../../LIGO-Data/O3a/all_posterior_samples/S190521r.h5 PrecessingSpinIMRHM\n",
      "8000\n",
      "S190527w ../../LIGO-Data/O3a/all_posterior_samples/S190527w.h5 PrecessingSpinIMRHM\n",
      "8000\n",
      "S190602aq ../../LIGO-Data/O3a/all_posterior_samples/S190602aq.h5 PrecessingSpinIMRHM\n",
      "8000\n",
      "S190620e ../../LIGO-Data/O3a/all_posterior_samples/S190620e.h5 PrecessingSpinIMRHM\n",
      "8000\n",
      "S190630ag ../../LIGO-Data/O3a/all_posterior_samples/S190630ag.h5 PrecessingSpinIMRHM\n",
      "8000\n",
      "S190701ah ../../LIGO-Data/O3a/all_posterior_samples/S190701ah.h5 PrecessingSpinIMRHM\n",
      "8000\n",
      "S190706ai ../../LIGO-Data/O3a/all_posterior_samples/S190706ai.h5 PrecessingSpinIMRHM\n",
      "8000\n",
      "S190707q ../../LIGO-Data/O3a/all_posterior_samples/S190707q.h5 PrecessingSpinIMRHM\n",
      "8000\n",
      "S190708ap ../../LIGO-Data/O3a/all_posterior_samples/S190708ap.h5 PrecessingSpinIMRHM\n",
      "8000\n",
      "S190719an ../../LIGO-Data/O3a/all_posterior_samples/S190719an.h5 PrecessingSpinIMRHM\n",
      "8000\n",
      "S190720a ../../LIGO-Data/O3a/all_posterior_samples/S190720a.h5 PrecessingSpinIMRHM\n",
      "8000\n",
      "S190725t ../../LIGO-Data/O3a-GWTC-2.1/IGWN-GWTC2p1-v1-GW190725_174728_PEDataRelease.h5 PrecessingSpinIMRHM\n",
      "8000\n",
      "S190727h ../../LIGO-Data/O3a/all_posterior_samples/S190727h.h5 PrecessingSpinIMRHM\n",
      "8000\n",
      "S190728q ../../LIGO-Data/O3a/all_posterior_samples/S190728q.h5 PrecessingSpinIMRHM\n",
      "8000\n",
      "S190731aa ../../LIGO-Data/O3a/all_posterior_samples/S190731aa.h5 PrecessingSpinIMRHM\n",
      "8000\n",
      "S190803e ../../LIGO-Data/O3a/all_posterior_samples/S190803e.h5 PrecessingSpinIMRHM\n",
      "8000\n",
      "S190805bq ../../LIGO-Data/O3a-GWTC-2.1/IGWN-GWTC2p1-v1-GW190805_211137_PEDataRelease.h5 PrecessingSpinIMRHM\n",
      "8000\n",
      "S190814bv ../../LIGO-Data/O3a/all_posterior_samples/S190814bv.h5 PrecessingSpinIMRHM\n",
      "8000\n",
      "S190828j ../../LIGO-Data/O3a/all_posterior_samples/S190828j.h5 PrecessingSpinIMRHM\n",
      "8000\n",
      "S190828l ../../LIGO-Data/O3a/all_posterior_samples/S190828l.h5 PrecessingSpinIMRHM\n",
      "8000\n",
      "S190910s ../../LIGO-Data/O3a/all_posterior_samples/S190910s.h5 PrecessingSpinIMRHM\n",
      "8000\n",
      "S190915ak ../../LIGO-Data/O3a/all_posterior_samples/S190915ak.h5 PrecessingSpinIMRHM\n",
      "8000\n",
      "S190924h ../../LIGO-Data/O3a/all_posterior_samples/S190924h.h5 PrecessingSpinIMRHM\n",
      "8000\n",
      "S190925ad ../../LIGO-Data/O3a-GWTC-2.1/IGWN-GWTC2p1-v1-GW190925_232845_PEDataRelease.h5 PrecessingSpinIMRHM\n",
      "8000\n",
      "S190929d ../../LIGO-Data/O3a/all_posterior_samples/S190929d.h5 PrecessingSpinIMRHM\n",
      "8000\n",
      "S190930s ../../LIGO-Data/O3a/all_posterior_samples/S190930s.h5 PrecessingSpinIMRHM\n",
      "8000\n",
      "S191103a ../../LIGO-Data/O3b/pe_samples/IGWN-GWTC3p0-v1-GW191103_012549_PEDataRelease_mixed_nocosmo.h5 C01:Mixed\n",
      "8000\n",
      "S191105e ../../LIGO-Data/O3b/pe_samples/IGWN-GWTC3p0-v1-GW191105_143521_PEDataRelease_mixed_nocosmo.h5 C01:Mixed\n",
      "8000\n",
      "S191109d ../../LIGO-Data/O3b/pe_samples/IGWN-GWTC3p0-v1-GW191109_010717_PEDataRelease_mixed_nocosmo.h5 C01:Mixed\n",
      "8000\n",
      "S191127p ../../LIGO-Data/O3b/pe_samples/IGWN-GWTC3p0-v1-GW191127_050227_PEDataRelease_mixed_nocosmo.h5 C01:Mixed\n",
      "8000\n",
      "S191129u ../../LIGO-Data/O3b/pe_samples/IGWN-GWTC3p0-v1-GW191129_134029_PEDataRelease_mixed_nocosmo.h5 C01:Mixed\n",
      "8000\n",
      "S191204r ../../LIGO-Data/O3b/pe_samples/IGWN-GWTC3p0-v1-GW191204_171526_PEDataRelease_mixed_nocosmo.h5 C01:Mixed\n",
      "8000\n",
      "S191215w ../../LIGO-Data/O3b/pe_samples/IGWN-GWTC3p0-v1-GW191215_223052_PEDataRelease_mixed_nocosmo.h5 C01:Mixed\n",
      "8000\n",
      "S191216ap ../../LIGO-Data/O3b/pe_samples/IGWN-GWTC3p0-v1-GW191216_213338_PEDataRelease_mixed_nocosmo.h5 C01:Mixed\n",
      "8000\n",
      "S191222n ../../LIGO-Data/O3b/pe_samples/IGWN-GWTC3p0-v1-GW191222_033537_PEDataRelease_mixed_nocosmo.h5 C01:Mixed\n",
      "8000\n",
      "S191230an ../../LIGO-Data/O3b/pe_samples/IGWN-GWTC3p0-v1-GW191230_180458_PEDataRelease_mixed_nocosmo.h5 C01:Mixed\n",
      "8000\n",
      "S200112r ../../LIGO-Data/O3b/pe_samples/IGWN-GWTC3p0-v1-GW200112_155838_PEDataRelease_mixed_nocosmo.h5 C01:Mixed\n",
      "8000\n",
      "S200128d ../../LIGO-Data/O3b/pe_samples/IGWN-GWTC3p0-v1-GW200128_022011_PEDataRelease_mixed_nocosmo.h5 C01:Mixed\n",
      "8000\n",
      "S200129m ../../LIGO-Data/O3b/pe_samples/IGWN-GWTC3p0-v1-GW200129_065458_PEDataRelease_mixed_nocosmo.h5 C01:Mixed\n",
      "3194\n",
      "S200202ac ../../LIGO-Data/O3b/pe_samples/IGWN-GWTC3p0-v1-GW200202_154313_PEDataRelease_mixed_nocosmo.h5 C01:Mixed\n",
      "8000\n",
      "S200208q ../../LIGO-Data/O3b/pe_samples/IGWN-GWTC3p0-v1-GW200208_130117_PEDataRelease_mixed_nocosmo.h5 C01:Mixed\n",
      "8000\n",
      "S200209ab ../../LIGO-Data/O3b/pe_samples/IGWN-GWTC3p0-v1-GW200209_085452_PEDataRelease_mixed_nocosmo.h5 C01:Mixed\n",
      "8000\n",
      "S200216br ../../LIGO-Data/O3b/pe_samples/IGWN-GWTC3p0-v1-GW200216_220804_PEDataRelease_mixed_nocosmo.h5 C01:Mixed\n",
      "8000\n",
      "S200219ac ../../LIGO-Data/O3b/pe_samples/IGWN-GWTC3p0-v1-GW200219_094415_PEDataRelease_mixed_nocosmo.h5 C01:Mixed\n",
      "8000\n",
      "S200224ca ../../LIGO-Data/O3b/pe_samples/IGWN-GWTC3p0-v1-GW200224_222234_PEDataRelease_mixed_nocosmo.h5 C01:Mixed\n",
      "8000\n",
      "S200225q ../../LIGO-Data/O3b/pe_samples/IGWN-GWTC3p0-v1-GW200225_060421_PEDataRelease_mixed_nocosmo.h5 C01:Mixed\n",
      "8000\n",
      "S200302c ../../LIGO-Data/O3b/pe_samples/IGWN-GWTC3p0-v1-GW200302_015811_PEDataRelease_mixed_nocosmo.h5 C01:Mixed\n",
      "8000\n",
      "S200311bg ../../LIGO-Data/O3b/pe_samples/IGWN-GWTC3p0-v1-GW200311_115853_PEDataRelease_mixed_nocosmo.h5 C01:Mixed\n",
      "8000\n",
      "S200316bj ../../LIGO-Data/O3b/pe_samples/IGWN-GWTC3p0-v1-GW200316_215756_PEDataRelease_mixed_nocosmo.h5 C01:Mixed\n",
      "8000\n"
     ]
    }
   ],
   "source": [
    "for event in O3_events:\n",
    "    \n",
    "    # Look for events in O3a\n",
    "    if event in eventDict['O3a'].keys():\n",
    "        \n",
    "        try:\n",
    "            #hfile = \"O3a/all_posterior_samples/{0}.h5\".format(event)\n",
    "            hfile = \"../../LIGO-Data/O3a/all_posterior_samples/{0}.h5\".format(event)\n",
    "            f = h5py.File(hfile,'r')\n",
    "        \n",
    "        # If event is not in O3a, it is a new event in O3a-GWTC-2.1\n",
    "        except OSError:\n",
    "            gw_name = str(eventDict['O3a'][event]['GWName'][()],'utf-8')\n",
    "            #hfile = \"O3a-GWTC-2.1/IGWN-GWTC2p1-v1-{0}_PEDataRelease.h5\".format(gw_name)\n",
    "            hfile = \"../../LIGO-Data/O3a-GWTC-2.1/IGWN-GWTC2p1-v1-{0}_PEDataRelease.h5\".format(gw_name)\n",
    "            f = h5py.File(hfile,'r')\n",
    "        \n",
    "    else:\n",
    "        \n",
    "        gw_name = str(eventDict['O3b'][event]['GWName'][()],'utf-8')\n",
    "        #hfile = \"O3b/pe_samples/IGWN-GWTC3p0-v1-{0}_PEDataRelease_mixed_nocosmo.h5\".format(gw_name)\n",
    "        hfile = \"../../LIGO-Data/O3b/pe_samples/IGWN-GWTC3p0-v1-{0}_PEDataRelease_mixed_nocosmo.h5\".format(gw_name)\n",
    "        f = h5py.File(hfile,'r')\n",
    "        \n",
    "    sample_key = eventKeyDict[event]\n",
    "    BBH_post_samples = f[sample_key]['posterior_samples']\n",
    "    print(event,hfile,sample_key)\n",
    "        \n",
    "    if os.path.exists(\".tmp/{0}.npy\".format(event)):\n",
    "        print(\"skip\")\n",
    "        continue\n",
    "    \n",
    "    m1_SF = BBH_post_samples['mass_1_source']\n",
    "    m2_SF = BBH_post_samples['mass_2_source']\n",
    "    a1 = BBH_post_samples['a_1']\n",
    "    a2 = BBH_post_samples['a_2']\n",
    "    cost1 = BBH_post_samples['cos_tilt_1']\n",
    "    cost2 = BBH_post_samples['cos_tilt_2']\n",
    "    DL = BBH_post_samples['luminosity_distance']\n",
    "    z = BBH_post_samples['redshift']\n",
    "    \n",
    "    Xeff = Calculate_Xeff(m1_SF,m2_SF,a1,a2,cost1,cost2)\n",
    "    Xp = Calculate_Xp(m1_SF,m2_SF,a1,a2,cost1,cost2)\n",
    "            \n",
    "    nSamps = min(target_nSamps,Xeff.size)\n",
    "    print(nSamps)\n",
    "        \n",
    "    sampleDraws = np.random.choice(np.arange(Xeff.size),size=nSamps,replace=False)\n",
    "    m1_SF = m1_SF[sampleDraws]\n",
    "    m2_SF = m2_SF[sampleDraws]\n",
    "    Xeff = Xeff[sampleDraws]\n",
    "    Xp = Xp[sampleDraws]\n",
    "    DL = DL[sampleDraws]\n",
    "    z = z[sampleDraws]\n",
    "    a1 = a1[sampleDraws]\n",
    "    a2 = a2[sampleDraws]\n",
    "    cost1 = cost1[sampleDraws]\n",
    "    cost2 = cost2[sampleDraws]\n",
    "    \n",
    "    # Mass ratio\n",
    "    q = m2_SF/m1_SF\n",
    "\n",
    "    # Redshift and mass priors\n",
    "    Dc = DL/(1.+z)\n",
    "    p_LAL = calculate_pLAL(z, DL)\n",
    "    dVdz = dVc_dz(z,DL)\n",
    "    \n",
    "    preprocDict = {'Xeff':Xeff,\\\n",
    "                        'Xp':Xp,\\\n",
    "                        'm1':m1_SF,\\\n",
    "                        'm2':m2_SF,\\\n",
    "                        'a1':a1,\\\n",
    "                        'a2':a2,\\\n",
    "                        'cost1':cost1,\\\n",
    "                        'cost2':cost2,\\\n",
    "                        'z':z,\\\n",
    "                        'z_prior':p_LAL,\\\n",
    "                        'dVc_dz':dVdz\n",
    "                       }\n",
    "    \n",
    "    np.save('.tmp/{0}.npy'.format(event),preprocDict)"
   ]
  },
  {
   "cell_type": "markdown",
   "metadata": {
    "Collapsed": "false"
   },
   "source": [
    "# Combine"
   ]
  },
  {
   "cell_type": "code",
   "execution_count": 10,
   "metadata": {},
   "outputs": [],
   "source": [
    "IFAR = np.array([])\n",
    "\n",
    "# Combine all events with FARs below 1/yr\n",
    "# Change this to a lower number for a more pure sample\n",
    "threshold = 1.\n",
    "\n",
    "# Now find events with FARs below 1/yr\n",
    "for key in eventDict['O1']:\n",
    "    far = float(eventDict['O1'][key]['FAR']['minfar'][()])*year\n",
    "    if far<threshold:\n",
    "        IFAR = np.append(IFAR,key)\n",
    "\n",
    "# ...and for O2\n",
    "for key in eventDict['O2']:\n",
    "    far = float(eventDict['O2'][key]['FAR']['minfar'][()])*year\n",
    "    if far<threshold:\n",
    "        IFAR = np.append(IFAR,key)\n",
    "\n",
    "# ...and for O3        \n",
    "for key in eventDict['O3']:\n",
    "    \n",
    "    # Ignore key that has glitched into the event list upstream\n",
    "    if key==\"%s\":\n",
    "        continue\n",
    "    \n",
    "    far = float(eventDict['O3'][key]['FAR']['minfar'][()])*year\n",
    "    if far<threshold:\n",
    "        IFAR = np.append(IFAR,key)\n",
    "\n",
    "# Load data for events identified above, neglecting BNS and NSBH candidates\n",
    "sampleDict = {}\n",
    "to_exclude_deliberately = [\"GW170817\",\"S190425z\",'S190426c','S190917u','S200105ae','S200115j']\n",
    "for event in IFAR:\n",
    "    if event not in to_exclude_deliberately:\n",
    "        dataDict = np.load(\".tmp/{0}.npy\".format(event),allow_pickle=True)[()]\n",
    "        sampleDict[event] = dataDict\n",
    "\n",
    "with open('sampleDict_FAR_1_in_1_yr.pickle','wb') as testfile:\n",
    "    pickle.dump(sampleDict,testfile,protocol=2)\n"
   ]
  },
  {
   "cell_type": "code",
   "execution_count": 11,
   "metadata": {},
   "outputs": [
    {
     "name": "stdout",
     "output_type": "stream",
     "text": [
      "dict_keys(['GW150914', 'GW151012', 'GW151226', 'GW170104', 'GW170608', 'GW170729', 'GW170809', 'GW170814', 'GW170818', 'GW170823', 'S190408an', 'S190412m', 'S190413ac', 'S190413i', 'S190421ar', 'S190503bf', 'S190512at', 'S190513bm', 'S190517h', 'S190519bj', 'S190521g', 'S190521r', 'S190527w', 'S190602aq', 'S190620e', 'S190630ag', 'S190701ah', 'S190706ai', 'S190707q', 'S190708ap', 'S190719an', 'S190720a', 'S190725t', 'S190727h', 'S190728q', 'S190731aa', 'S190803e', 'S190805bq', 'S190814bv', 'S190828j', 'S190828l', 'S190910s', 'S190915ak', 'S190924h', 'S190925ad', 'S190929d', 'S190930s', 'S191103a', 'S191105e', 'S191109d', 'S191127p', 'S191129u', 'S191204r', 'S191215w', 'S191216ap', 'S191222n', 'S191230an', 'S200112r', 'S200128d', 'S200129m', 'S200202ac', 'S200208q', 'S200209ab', 'S200216br', 'S200219ac', 'S200224ca', 'S200225q', 'S200302c', 'S200311bg', 'S200316bj'])\n"
     ]
    }
   ],
   "source": [
    "data = np.load('sampleDict_FAR_1_in_1_yr.pickle',allow_pickle=True)\n",
    "print(data.keys())"
   ]
  },
  {
   "cell_type": "code",
   "execution_count": 12,
   "metadata": {},
   "outputs": [
    {
     "name": "stdout",
     "output_type": "stream",
     "text": [
      "dict_keys(['Xeff', 'Xp', 'm1', 'm2', 'a1', 'a2', 'cost1', 'cost2', 'z', 'z_prior', 'dVc_dz'])\n"
     ]
    }
   ],
   "source": [
    "print(data['GW150914'].keys())"
   ]
  },
  {
   "cell_type": "code",
   "execution_count": 13,
   "metadata": {},
   "outputs": [],
   "source": [
    "# Clean up\n",
    "files_to_remove = glob.glob(\".tmp/*.npy\")\n",
    "for f in files_to_remove:\n",
    "    os.remove(f)"
   ]
  },
  {
   "cell_type": "code",
   "execution_count": null,
   "metadata": {},
   "outputs": [],
   "source": []
  }
 ],
 "metadata": {
  "kernelspec": {
   "display_name": "Python 3 (ipykernel)",
   "language": "python",
   "name": "python3"
  },
  "language_info": {
   "codemirror_mode": {
    "name": "ipython",
    "version": 3
   },
   "file_extension": ".py",
   "mimetype": "text/x-python",
   "name": "python",
   "nbconvert_exporter": "python",
   "pygments_lexer": "ipython3",
   "version": "3.7.11"
  }
 },
 "nbformat": 4,
 "nbformat_minor": 4
}
